{
 "cells": [
  {
   "cell_type": "code",
   "execution_count": 1,
   "id": "95b6049d",
   "metadata": {},
   "outputs": [],
   "source": [
    "import pandas as pd\n",
    "import numpy as np\n",
    "import matplotlib.pyplot as plt\n",
    "import random"
   ]
  },
  {
   "cell_type": "code",
   "execution_count": 2,
   "id": "0995d584",
   "metadata": {},
   "outputs": [],
   "source": [
    "from scipy.io import loadmat\n",
    "\n",
    "data_set = loadmat(\"D:/ML_Datasets/mnist-original.mat\")"
   ]
  },
  {
   "cell_type": "code",
   "execution_count": 3,
   "id": "26050ef3",
   "metadata": {},
   "outputs": [
    {
     "name": "stdout",
     "output_type": "stream",
     "text": [
      "{'__header__': b'MATLAB 5.0 MAT-file Platform: posix, Created on: Sun Mar 30 03:19:02 2014', '__version__': '1.0', '__globals__': [], 'mldata_descr_ordering': array([[array(['label'], dtype='<U5'), array(['data'], dtype='<U4')]],\n",
      "      dtype=object), 'data': array([[0, 0, 0, ..., 0, 0, 0],\n",
      "       [0, 0, 0, ..., 0, 0, 0],\n",
      "       [0, 0, 0, ..., 0, 0, 0],\n",
      "       ...,\n",
      "       [0, 0, 0, ..., 0, 0, 0],\n",
      "       [0, 0, 0, ..., 0, 0, 0],\n",
      "       [0, 0, 0, ..., 0, 0, 0]], dtype=uint8), 'label': array([[0., 0., 0., ..., 9., 9., 9.]])}\n"
     ]
    }
   ],
   "source": [
    "print(data_set)"
   ]
  },
  {
   "cell_type": "code",
   "execution_count": 4,
   "id": "365c8457",
   "metadata": {},
   "outputs": [
    {
     "name": "stdout",
     "output_type": "stream",
     "text": [
      "(70000, 784)\n"
     ]
    }
   ],
   "source": [
    "#rows = data_set['label']\n",
    "#dataVal = data_set['data']\n",
    "data_dict = {}\n",
    "\n",
    "mnist_data = data_set[\"data\"].T\n",
    "mnist_label = data_set[\"label\"][0]\n",
    "print(mnist_data.shape)\n",
    "mnist_data1 = mnist_data.reshape(len(mnist_data), 28*28)\n",
    "#print(mnist_label)\n",
    "\n",
    "\n",
    "for i,v in enumerate(mnist_label):\n",
    "    #print(i)\n",
    "    c=1\n",
    "    for j in mnist_data1[i]:\n",
    "        \n",
    "        data_dict.setdefault(c, []).append(j)\n",
    "        c = c+1\n",
    "\n",
    "    #data_dict.setdefault(\"x\", []).append(mnist_data1[i])\n",
    "    data_dict.setdefault(\"y\", []).append(v)\n",
    "    "
   ]
  },
  {
   "cell_type": "code",
   "execution_count": 5,
   "id": "a6d30ed2",
   "metadata": {},
   "outputs": [
    {
     "name": "stdout",
     "output_type": "stream",
     "text": [
      "       0    1    2    3    4    5    6    7    8    9    ...  775  776  777  \\\n",
      "0        0    0    0    0    0    0    0    0    0    0  ...    0    0    0   \n",
      "1        0    0    0    0    0    0    0    0    0    0  ...    0    0    0   \n",
      "2        0    0    0    0    0    0    0    0    0    0  ...    0    0    0   \n",
      "3        0    0    0    0    0    0    0    0    0    0  ...    0    0    0   \n",
      "4        0    0    0    0    0    0    0    0    0    0  ...    0    0    0   \n",
      "...    ...  ...  ...  ...  ...  ...  ...  ...  ...  ...  ...  ...  ...  ...   \n",
      "69995    0    0    0    0    0    0    0    0    0    0  ...    0    0    0   \n",
      "69996    0    0    0    0    0    0    0    0    0    0  ...    0    0    0   \n",
      "69997    0    0    0    0    0    0    0    0    0    0  ...    0    0    0   \n",
      "69998    0    0    0    0    0    0    0    0    0    0  ...    0    0    0   \n",
      "69999    0    0    0    0    0    0    0    0    0    0  ...    0    0    0   \n",
      "\n",
      "       778  779  780  781  782  783  784  \n",
      "0        0    0    0    0    0    0  0.0  \n",
      "1        0    0    0    0    0    0  0.0  \n",
      "2        0    0    0    0    0    0  0.0  \n",
      "3        0    0    0    0    0    0  0.0  \n",
      "4        0    0    0    0    0    0  0.0  \n",
      "...    ...  ...  ...  ...  ...  ...  ...  \n",
      "69995    0    0    0    0    0    0  9.0  \n",
      "69996    0    0    0    0    0    0  9.0  \n",
      "69997    0    0    0    0    0    0  9.0  \n",
      "69998    0    0    0    0    0    0  9.0  \n",
      "69999    0    0    0    0    0    0  9.0  \n",
      "\n",
      "[70000 rows x 785 columns]\n"
     ]
    }
   ],
   "source": [
    "#print(len(data_dict[2]))\n",
    "#df = pd.DataFrame.from_dict(data_dict)\n",
    "\n",
    "from itertools import zip_longest\n",
    "\n",
    "# zip all the values together\n",
    "zl = list(zip_longest(*data_dict.values()))\n",
    "\n",
    "# create dataframe\n",
    "df = pd.DataFrame(zl)\n",
    "print(df)"
   ]
  },
  {
   "cell_type": "code",
   "execution_count": 6,
   "id": "a3a4507b",
   "metadata": {},
   "outputs": [
    {
     "name": "stdout",
     "output_type": "stream",
     "text": [
      "       0    1    2    3    4    5    6    7    8    9    ...  775  776  777  \\\n",
      "0        0    0    0    0    0    0    0    0    0    0  ...    0    0    0   \n",
      "1        0    0    0    0    0    0    0    0    0    0  ...    0    0    0   \n",
      "2        0    0    0    0    0    0    0    0    0    0  ...    0    0    0   \n",
      "3        0    0    0    0    0    0    0    0    0    0  ...    0    0    0   \n",
      "4        0    0    0    0    0    0    0    0    0    0  ...    0    0    0   \n",
      "...    ...  ...  ...  ...  ...  ...  ...  ...  ...  ...  ...  ...  ...  ...   \n",
      "69995    0    0    0    0    0    0    0    0    0    0  ...    0    0    0   \n",
      "69996    0    0    0    0    0    0    0    0    0    0  ...    0    0    0   \n",
      "69997    0    0    0    0    0    0    0    0    0    0  ...    0    0    0   \n",
      "69998    0    0    0    0    0    0    0    0    0    0  ...    0    0    0   \n",
      "69999    0    0    0    0    0    0    0    0    0    0  ...    0    0    0   \n",
      "\n",
      "       778  779  780  781  782  783  784  \n",
      "0        0    0    0    0    0    0  0.0  \n",
      "1        0    0    0    0    0    0  0.0  \n",
      "2        0    0    0    0    0    0  0.0  \n",
      "3        0    0    0    0    0    0  0.0  \n",
      "4        0    0    0    0    0    0  0.0  \n",
      "...    ...  ...  ...  ...  ...  ...  ...  \n",
      "69995    0    0    0    0    0    0  9.0  \n",
      "69996    0    0    0    0    0    0  9.0  \n",
      "69997    0    0    0    0    0    0  9.0  \n",
      "69998    0    0    0    0    0    0  9.0  \n",
      "69999    0    0    0    0    0    0  9.0  \n",
      "\n",
      "[70000 rows x 785 columns]\n"
     ]
    }
   ],
   "source": [
    "print(df)"
   ]
  },
  {
   "cell_type": "code",
   "execution_count": 7,
   "id": "58b3536b",
   "metadata": {},
   "outputs": [
    {
     "name": "stdout",
     "output_type": "stream",
     "text": [
      "Train dataset: 42000\n",
      "Validation dataset: 14000\n",
      "test dataset: 14000\n"
     ]
    }
   ],
   "source": [
    "train_data = df.sample(frac = 0.6, random_state = 42)\n",
    "\n",
    "test_val_data = df.drop(train_data.index)\n",
    "\n",
    "val_data = test_val_data.sample(frac = 0.5, random_state = 42)\n",
    "\n",
    "test_data = test_val_data.drop(val_data.index)\n",
    "\n",
    "\n",
    "print(\"Train dataset:\", train_data.shape[0])\n",
    "print(\"Validation dataset:\", val_data.shape[0])\n",
    "print(\"test dataset:\", test_data.shape[0])"
   ]
  },
  {
   "cell_type": "code",
   "execution_count": 8,
   "id": "bc03396b",
   "metadata": {},
   "outputs": [
    {
     "name": "stdout",
     "output_type": "stream",
     "text": [
      "       0    1    2    3    4    5    6    7    8    9    ...  774  775  776  \\\n",
      "46730    0    0    0    0    0    0    0    0    0    0  ...    0    0    0   \n",
      "48393    0    0    0    0    0    0    0    0    0    0  ...    0    0    0   \n",
      "41416    0    0    0    0    0    0    0    0    0    0  ...    0    0    0   \n",
      "34506    0    0    0    0    0    0    0    0    0    0  ...    0    0    0   \n",
      "43725    0    0    0    0    0    0    0    0    0    0  ...    0    0    0   \n",
      "...    ...  ...  ...  ...  ...  ...  ...  ...  ...  ...  ...  ...  ...  ...   \n",
      "67240    0    0    0    0    0    0    0    0    0    0  ...    0    0    0   \n",
      "46341    0    0    0    0    0    0    0    0    0    0  ...    0    0    0   \n",
      "64714    0    0    0    0    0    0    0    0    0    0  ...    0    0    0   \n",
      "20362    0    0    0    0    0    0    0    0    0    0  ...    0    0    0   \n",
      "30144    0    0    0    0    0    0    0    0    0    0  ...    0    0    0   \n",
      "\n",
      "       777  778  779  780  781  782  783  \n",
      "46730    0    0    0    0    0    0    0  \n",
      "48393    0    0    0    0    0    0    0  \n",
      "41416    0    0    0    0    0    0    0  \n",
      "34506    0    0    0    0    0    0    0  \n",
      "43725    0    0    0    0    0    0    0  \n",
      "...    ...  ...  ...  ...  ...  ...  ...  \n",
      "67240    0    0    0    0    0    0    0  \n",
      "46341    0    0    0    0    0    0    0  \n",
      "64714    0    0    0    0    0    0    0  \n",
      "20362    0    0    0    0    0    0    0  \n",
      "30144    0    0    0    0    0    0    0  \n",
      "\n",
      "[42000 rows x 784 columns]\n"
     ]
    }
   ],
   "source": [
    "x_train = train_data.iloc[:, 0:784]\n",
    "y_train = train_data[784]\n",
    "\n",
    "x_val = val_data.iloc[:, 0:784]\n",
    "y_val = val_data[784]\n",
    "\n",
    "x_test = test_data.iloc[:, 0:784]\n",
    "y_test = test_data[784]\n",
    "\n",
    "print( train_data.iloc[:, 0:784])"
   ]
  },
  {
   "cell_type": "code",
   "execution_count": 9,
   "id": "e0daa104",
   "metadata": {},
   "outputs": [
    {
     "name": "stdout",
     "output_type": "stream",
     "text": [
      "[   0    0    0    0    0    0    0    0    0    0    0    0    0    0\n",
      "    0    0    0    0    0    0    0    0    0    0    0    0    0    0\n",
      "    0    0    0    0    0    0    0    0    0    0    0    0    0    0\n",
      "    0    0    0    0    0    0    0    0    0    0    0    0    0    0\n",
      "    0    0    0    0    0    0    0    0    0    0    0    0    0    0\n",
      "    0    0    0    0    0    0    0    0    0    0    0    0    0    0\n",
      "    0    0    0    0    0    0    0    0    0    0    0    0    0    0\n",
      "    0    0    0    0    0    0    0    0    0    0    0    0    0    0\n",
      "    0    0    0    0    0    0    0    0    0    0    0    0    0    0\n",
      "    0    0    0    0    0    0    0    0    0    0    0    0    0    0\n",
      "    0    0    0    0    0    0    0    0    0    0    0    0    0    0\n",
      "    0    0   64  115  -90 -119    3    0  100  -10   41    0    0    0\n",
      "    0    0    0    0    0    0    0    0    0    0    0    0    0   18\n",
      "   84  -56   -4   -6  -64  -44 -109   14  -64  -18   25    0    0    0\n",
      "    0    0    0    0    0    0    0    0    0    0    0    0   34  -54\n",
      "   -2  -28  121   25    0   66  -57  125   -2  -95    0    0    0    0\n",
      "    0    0    0    0    0    0    0    0    0    0    0    2  -70   -2\n",
      "  118   19    0    0    0    0 -117   -2  -48    8    0    0    0    0\n",
      "    0    0    0    0    0    0    0    0    0    0    0  120   -2  120\n",
      "    4    0    0    0    1  111  -22  -84   26    0    0    0    0    0\n",
      "    0    0    0    0    0    0    0    0    0    0    0  -68   -2    4\n",
      "    0    0    0    1  109   -2  -58   30    0    0    0    0    0    0\n",
      "    0    0    0    0    0    0    0    0    0    0    0  -68   -2    4\n",
      "    0    0    0  110   -2  -87    3    0    0    0    0    0    0    0\n",
      "    0    0    0    0    0    0    0    0    0    0    0  -68   -2   29\n",
      "    0   13  -68   -2  -88    2    0    0    0    0    0    0    0    0\n",
      "    0    0    0    0    0    0    0    0    0    0    0  116   -2  114\n",
      "   14  -69   -2 -123    5    0    0    0    0    0    0    0    0    0\n",
      "    0    0    0    0    0    0    0    0    0    0    0    8  -16  -10\n",
      "  -57   -9   94    7    0    0    0    0    0    0    0    0    0    0\n",
      "    0    0    0    0    0    0    0    0    0    0    0    0  -81   -2\n",
      "   -2   94    0    0    0    0    0    0    0    0    0    0    0    0\n",
      "    0    0    0    0    0    0    0    0    0    0    0   83  -20   -8\n",
      "   -2   69    0    0    0    0    0    0    0    0    0    0    0    0\n",
      "    0    0    0    0    0    0    0    0    0    0   83  -20  -68   48\n",
      "  -14 -103    0    0    0    0    0    0    0    0    0    0    0    0\n",
      "    0    0    0    0    0    0    0    0    0   12  -38  -99    0    0\n",
      "  -79  -16   30    0    0    0    0    0    0    0    0    0    0    0\n",
      "    0    0    0    0    0    0    0    0   14  -68  -39   26    0    0\n",
      " -108   -2   44    0    0    0    0    0    0    0    0    0    0    0\n",
      "    0    0    0    0    0    0    0    0  119   -9   50    0    0    0\n",
      " -108   -2   44    0    0    0    0    0    0    0    0    0    0    0\n",
      "    0    0    0    0    0    0    0   10  -23  -83    0    0    0   12\n",
      "  -91   -2   44    0    0    0    0    0    0    0    0    0    0    0\n",
      "    0    0    0    0    0    0    0   63   -2   67    0    0   19  -70\n",
      "   -2  -79    9    0    0    0    0    0    0    0    0    0    0    0\n",
      "    0    0    0    0    0    0    0   16  -21  -32  122  -87  -21   -5\n",
      "  -88   30    0    0    0    0    0    0    0    0    0    0    0    0\n",
      "    0    0    0    0    0    0    0    0  117  -15   -2  -36  -91   56\n",
      "    0    0    0    0    0    0    0    0    0    0    0    0    0    0\n",
      "    0    0    0    0    0    0    0    0    0    0    0    0    0    0\n",
      "    0    0    0    0    0    0    0    0    0    0    0    0    0    0\n",
      "    0    0    0    0    0    0    0    0    0    0    0    0    0    0\n",
      "    0    0    0    0    0    0    0    0    0    0    0    0    0    0\n",
      "    0    0    0    0    0    0    0    0    0    0    0    0    0    0\n",
      "    0    0    0    0    0    0    0    0    0    0    0    0    0    0]\n"
     ]
    }
   ],
   "source": [
    "x_train1 = np.array(x_train)\n",
    "y_train1 = np.array(y_train)\n",
    "\n",
    "x_val1 = np.array(x_val)\n",
    "y_val1 = np.array(y_val)\n",
    "\n",
    "x_test1 = np.array(x_test)\n",
    "y_test1 = np.array(y_test)\n",
    "print(x_train1[100 , :])"
   ]
  },
  {
   "cell_type": "code",
   "execution_count": 10,
   "id": "2c62c975",
   "metadata": {},
   "outputs": [],
   "source": [
    "x_train1 = x_train1/255\n",
    "x_val1 = x_val1/255\n",
    "x_test1 = x_test1/255"
   ]
  },
  {
   "cell_type": "code",
   "execution_count": 11,
   "id": "a8cdbdb2",
   "metadata": {},
   "outputs": [
    {
     "name": "stdout",
     "output_type": "stream",
     "text": [
      "784\n"
     ]
    }
   ],
   "source": [
    "print(len(x_train1[100]))"
   ]
  },
  {
   "cell_type": "code",
   "execution_count": 12,
   "id": "8c93edc2",
   "metadata": {},
   "outputs": [
    {
     "data": {
      "text/plain": [
       "<matplotlib.image.AxesImage at 0x1ac39f32340>"
      ]
     },
     "execution_count": 12,
     "metadata": {},
     "output_type": "execute_result"
    },
    {
     "data": {
      "image/png": "[encoded data removed]",
      "text/plain": [
       "<Figure size 480x480 with 1 Axes>"
      ]
     },
     "metadata": {},
     "output_type": "display_data"
    }
   ],
   "source": [
    "plt.matshow(x_train1[5, :].reshape(28, 28))"
   ]
  },
  {
   "cell_type": "code",
   "execution_count": 13,
   "id": "2810b20f",
   "metadata": {},
   "outputs": [
    {
     "name": "stdout",
     "output_type": "stream",
     "text": [
      "[[[0. 0. 0. ... 0. 0. 0.]\n",
      "  [0. 0. 0. ... 0. 0. 0.]\n",
      "  [0. 0. 0. ... 0. 0. 0.]\n",
      "  ...\n",
      "  [0. 0. 0. ... 0. 0. 0.]\n",
      "  [0. 0. 0. ... 0. 0. 0.]\n",
      "  [0. 0. 0. ... 0. 0. 0.]]\n",
      "\n",
      " [[0. 0. 0. ... 0. 0. 0.]\n",
      "  [0. 0. 0. ... 0. 0. 0.]\n",
      "  [0. 0. 0. ... 0. 0. 0.]\n",
      "  ...\n",
      "  [0. 0. 0. ... 0. 0. 0.]\n",
      "  [0. 0. 0. ... 0. 0. 0.]\n",
      "  [0. 0. 0. ... 0. 0. 0.]]\n",
      "\n",
      " [[0. 0. 0. ... 0. 0. 0.]\n",
      "  [0. 0. 0. ... 0. 0. 0.]\n",
      "  [0. 0. 0. ... 0. 0. 0.]\n",
      "  ...\n",
      "  [0. 0. 0. ... 0. 0. 0.]\n",
      "  [0. 0. 0. ... 0. 0. 0.]\n",
      "  [0. 0. 0. ... 0. 0. 0.]]\n",
      "\n",
      " ...\n",
      "\n",
      " [[0. 0. 0. ... 0. 0. 0.]\n",
      "  [0. 0. 0. ... 0. 0. 0.]\n",
      "  [0. 0. 0. ... 0. 0. 0.]\n",
      "  ...\n",
      "  [0. 0. 0. ... 0. 0. 0.]\n",
      "  [0. 0. 0. ... 0. 0. 0.]\n",
      "  [0. 0. 0. ... 0. 0. 0.]]\n",
      "\n",
      " [[0. 0. 0. ... 0. 0. 0.]\n",
      "  [0. 0. 0. ... 0. 0. 0.]\n",
      "  [0. 0. 0. ... 0. 0. 0.]\n",
      "  ...\n",
      "  [0. 0. 0. ... 0. 0. 0.]\n",
      "  [0. 0. 0. ... 0. 0. 0.]\n",
      "  [0. 0. 0. ... 0. 0. 0.]]\n",
      "\n",
      " [[0. 0. 0. ... 0. 0. 0.]\n",
      "  [0. 0. 0. ... 0. 0. 0.]\n",
      "  [0. 0. 0. ... 0. 0. 0.]\n",
      "  ...\n",
      "  [0. 0. 0. ... 0. 0. 0.]\n",
      "  [0. 0. 0. ... 0. 0. 0.]\n",
      "  [0. 0. 0. ... 0. 0. 0.]]]\n"
     ]
    }
   ],
   "source": [
    "#x_train1 = [x_train1[i,:].reshape(28,28) for i in range(0, len(x_train))\n",
    "\n",
    "X_train1 = x_train1.reshape(-1, 28,28)\n",
    "\n",
    "print(X_train1)"
   ]
  },
  {
   "cell_type": "code",
   "execution_count": 14,
   "id": "786a6825",
   "metadata": {},
   "outputs": [],
   "source": [
    "import tensorflow as tf\n",
    "from tensorflow.keras import Sequential\n",
    "from tensorflow.keras.layers import Dense\n",
    "from tensorflow.keras import layers, models\n",
    "\n",
    "model = models.Sequential([\n",
    "    layers.Conv2D(filters=50, kernel_size=(3, 3), activation='relu', input_shape=(28, 28, 1)),\n",
    "    layers.MaxPooling2D((2, 2)),\n",
    "    \n",
    "    layers.Conv2D(filters=25, kernel_size=(3, 3), activation='relu'),\n",
    "    layers.MaxPooling2D((2, 2)),\n",
    "    layers.Flatten(),\n",
    "\n",
    "  Dense(units = 64, activation ='relu'),\n",
    "  Dense(units = 16, activation = 'relu'),\n",
    "  Dense(units = 10, activation = 'softmax')\n",
    "])\n"
   ]
  },
  {
   "cell_type": "code",
   "execution_count": 15,
   "id": "0fee00a9",
   "metadata": {},
   "outputs": [],
   "source": [
    "model.compile(optimizer='adam',\n",
    "              loss='sparse_categorical_crossentropy',\n",
    "              metrics=['accuracy'])\n"
   ]
  },
  {
   "cell_type": "code",
   "execution_count": 16,
   "id": "d5a84266",
   "metadata": {},
   "outputs": [
    {
     "name": "stdout",
     "output_type": "stream",
     "text": [
      "Epoch 1/10\n",
      "1313/1313 [==============================] - 167s 125ms/step - loss: 0.5203 - accuracy: 0.8287\n",
      "Epoch 2/10\n",
      "1313/1313 [==============================] - 144s 110ms/step - loss: 0.1838 - accuracy: 0.9414\n",
      "Epoch 3/10\n",
      "1313/1313 [==============================] - 137s 104ms/step - loss: 0.1330 - accuracy: 0.9584\n",
      "Epoch 4/10\n",
      "1313/1313 [==============================] - 118s 90ms/step - loss: 0.1045 - accuracy: 0.9659\n",
      "Epoch 5/10\n",
      "1313/1313 [==============================] - 191s 145ms/step - loss: 0.0824 - accuracy: 0.9738\n",
      "Epoch 6/10\n",
      "1313/1313 [==============================] - 218s 166ms/step - loss: 0.0672 - accuracy: 0.9773\n",
      "Epoch 7/10\n",
      "1313/1313 [==============================] - 161s 123ms/step - loss: 0.0532 - accuracy: 0.9825\n",
      "Epoch 8/10\n",
      "1313/1313 [==============================] - 122s 93ms/step - loss: 0.0434 - accuracy: 0.9850\n",
      "Epoch 9/10\n",
      "1313/1313 [==============================] - 120s 92ms/step - loss: 0.0362 - accuracy: 0.9880\n",
      "Epoch 10/10\n",
      "1313/1313 [==============================] - 132s 101ms/step - loss: 0.0297 - accuracy: 0.9899\n"
     ]
    },
    {
     "data": {
      "text/plain": [
       "<keras.callbacks.History at 0x1ac48c7fca0>"
      ]
     },
     "execution_count": 16,
     "metadata": {},
     "output_type": "execute_result"
    }
   ],
   "source": [
    "model.fit(X_train1, y_train1, epochs=10)"
   ]
  },
  {
   "cell_type": "code",
   "execution_count": 17,
   "id": "eaaf27c9",
   "metadata": {},
   "outputs": [
    {
     "name": "stdout",
     "output_type": "stream",
     "text": [
      "1313/1313 [==============================] - 38s 29ms/step - loss: 0.0200 - accuracy: 0.9936\n",
      "Train data accuracy=  [0.019986474886536598, 0.9936190247535706]\n"
     ]
    }
   ],
   "source": [
    "train_acc = model.evaluate(X_train1, y_train1)\n",
    "print(\"Train data accuracy= \", train_acc)"
   ]
  },
  {
   "cell_type": "code",
   "execution_count": 19,
   "id": "7eac668f",
   "metadata": {},
   "outputs": [],
   "source": [
    "X_val1 = x_val1.reshape(-1, 28, 28)\n",
    "X_test1 = x_test1.reshape(-1, 28, 28)\n",
    "\n",
    "history = model.fit(X_train1, y_train1, validation_data=(X_val1, y_val1), epochs=20, verbose=0)"
   ]
  },
  {
   "cell_type": "code",
   "execution_count": 20,
   "id": "80e195fc",
   "metadata": {},
   "outputs": [
    {
     "data": {
      "image/png": "[encoded data removed]",
      "text/plain": [
       "<Figure size 640x480 with 2 Axes>"
      ]
     },
     "metadata": {},
     "output_type": "display_data"
    }
   ],
   "source": [
    "# plot loss during training\n",
    "plt.subplot(211)\n",
    "plt.title('Loss')\n",
    "plt.plot(history.history['loss'], label='train')\n",
    "plt.plot(history.history['val_loss'], label='test')\n",
    "plt.legend()\n",
    "\n",
    "# plot accuracy during training\n",
    "plt.subplot(212)\n",
    "plt.title('Accuracy')\n",
    "plt.plot(history.history['accuracy'], label='train')\n",
    "plt.plot(history.history['val_accuracy'], label='test')\n",
    "plt.legend()\n",
    "plt.show()"
   ]
  },
  {
   "cell_type": "code",
   "execution_count": 21,
   "id": "9a772f5d",
   "metadata": {},
   "outputs": [
    {
     "name": "stdout",
     "output_type": "stream",
     "text": [
      "438/438 [==============================] - 17s 36ms/step\n",
      "[1.0000000e+00 7.6995878e-14 2.4499335e-15 1.1645756e-12 1.9443178e-19\n",
      " 6.8893784e-12 3.9180963e-12 3.1909550e-15 1.1941726e-12 4.0132134e-13]\n"
     ]
    }
   ],
   "source": [
    "y_pred = model.predict(X_test1)\n",
    "print(y_pred[1])\n",
    "y_p = [np.argmax(i) for i in y_pred]"
   ]
  },
  {
   "cell_type": "code",
   "execution_count": 22,
   "id": "ffb1e208",
   "metadata": {},
   "outputs": [
    {
     "data": {
      "text/plain": [
       "<tf.Tensor: shape=(10, 10), dtype=int32, numpy=\n",
       "array([[1382,    0,    2,    2,    0,    2,   16,    0,    8,    2],\n",
       "       [   0, 1557,    1,    1,    1,    2,    0,    6,    0,    1],\n",
       "       [   5,    3, 1372,    5,    8,    2,    2,   11,    9,    3],\n",
       "       [   1,    2,    8, 1372,    2,   12,    0,    8,   13,    9],\n",
       "       [   0,    5,    2,    0, 1306,    1,    8,    4,    0,   22],\n",
       "       [   2,    1,    0,    8,    2, 1232,    9,    1,    6,    6],\n",
       "       [   0,    3,    0,    0,    5,    9, 1315,    0,    4,    0],\n",
       "       [   0,    7,    8,    3,   13,    1,    0, 1414,    4,   21],\n",
       "       [   1,    6,    4,    9,    5,   12,    8,    8, 1248,    9],\n",
       "       [   5,    2,    0,    2,   17,    4,    0,   14,    2, 1392]])>"
      ]
     },
     "execution_count": 22,
     "metadata": {},
     "output_type": "execute_result"
    }
   ],
   "source": [
    "cm = tf.math.confusion_matrix(labels = y_test1, predictions=y_p)\n",
    "\n",
    "cm"
   ]
  },
  {
   "cell_type": "code",
   "execution_count": 23,
   "id": "168c754e",
   "metadata": {},
   "outputs": [
    {
     "data": {
      "text/plain": [
       "Text(95.72222222222221, 0.5, 'Truth')"
      ]
     },
     "execution_count": 23,
     "metadata": {},
     "output_type": "execute_result"
    },
    {
     "data": {
      "image/png": "[encoded data removed]",
      "text/plain": [
       "<Figure size 1000x700 with 2 Axes>"
      ]
     },
     "metadata": {},
     "output_type": "display_data"
    }
   ],
   "source": [
    "import seaborn as sn\n",
    "plt.figure(figsize= (10,7))\n",
    "sn.heatmap(cm, annot= True, fmt='d')\n",
    "plt.xlabel('Predicted')\n",
    "plt.ylabel('Truth')"
   ]
  },
  {
   "cell_type": "code",
   "execution_count": null,
   "id": "e4ff4e59",
   "metadata": {},
   "outputs": [],
   "source": []
  }
 ],
 "metadata": {
  "kernelspec": {
   "display_name": "Python 3 (ipykernel)",
   "language": "python",
   "name": "python3"
  },
  "language_info": {
   "codemirror_mode": {
    "name": "ipython",
    "version": 3
   },
   "file_extension": ".py",
   "mimetype": "text/x-python",
   "name": "python",
   "nbconvert_exporter": "python",
   "pygments_lexer": "ipython3",
   "version": "3.9.13"
  }
 },
 "nbformat": 4,
 "nbformat_minor": 5
}
